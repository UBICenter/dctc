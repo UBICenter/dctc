{
 "cells": [
  {
   "attachments": {},
   "cell_type": "markdown",
   "metadata": {},
   "source": [
    "# An Analysis\n",
    "\n",
    "This notebook will be rendered on the website. Below is an example plot.\n"
   ]
  },
  {
   "cell_type": "code",
   "execution_count": 1,
   "metadata": {},
   "outputs": [],
   "source": [
    "from policyengine_us import Simulation\n",
    "from policyengine_core.reforms import Reform\n",
    "from policyengine_core.periods import instant\n",
    "import pandas as pd\n",
    "import numpy as np\n",
    "\n",
    "\n",
    "def modify_parameters(parameters):\n",
    "    parameters.gov.contrib.ubi_center.basic_income.amount.person.by_age[\n",
    "        0\n",
    "    ].amount.update(\n",
    "        start=instant(\"2023-01-01\"), stop=instant(\"2028-12-31\"), value=1_000\n",
    "    )\n",
    "\n",
    "    parameters.gov.contrib.ubi_center.basic_income.amount.person.by_age[\n",
    "        1\n",
    "    ].threshold.update(\n",
    "        start=instant(\"2023-01-01\"), stop=instant(\"2028-12-31\"), value=17\n",
    "    )\n",
    "\n",
    "    parameters.gov.contrib.ubi_center.basic_income.phase_out.rate.update(\n",
    "        start=instant(\"2023-01-01\"), stop=instant(\"2028-12-31\"), value=0.1\n",
    "    )\n",
    "\n",
    "    parameters.gov.contrib.ubi_center.basic_income.phase_out.threshold.HEAD_OF_HOUSEHOLD.update(\n",
    "        start=instant(\"2023-01-01\"), stop=instant(\"2028-12-31\"), value=10_000\n",
    "    )\n",
    "\n",
    "    parameters.gov.contrib.ubi_center.basic_income.phase_out.threshold.JOINT.update(\n",
    "        start=instant(\"2023-01-01\"), stop=instant(\"2028-12-31\"), value=20_000\n",
    "    )\n",
    "\n",
    "    parameters.gov.contrib.ubi_center.basic_income.phase_out.threshold.SEPARATE.update(\n",
    "        start=instant(\"2023-01-01\"), stop=instant(\"2028-12-31\"), value=10_000\n",
    "    )\n",
    "\n",
    "    parameters.gov.contrib.ubi_center.basic_income.phase_out.threshold.SINGLE.update(\n",
    "        start=instant(\"2023-01-01\"), stop=instant(\"2028-12-31\"), value=10_000\n",
    "    )\n",
    "\n",
    "    parameters.gov.contrib.ubi_center.basic_income.phase_out.threshold.WIDOW.update(\n",
    "        start=instant(\"2023-01-01\"), stop=instant(\"2028-12-31\"), value=10_000\n",
    "    )\n",
    "\n",
    "    return parameters\n",
    "\n",
    "\n",
    "class reform(Reform):\n",
    "    def apply(self):\n",
    "        self.modify_parameters(modify_parameters)\n"
   ]
  },
  {
   "cell_type": "code",
   "execution_count": 8,
   "metadata": {},
   "outputs": [],
   "source": [
    "EARNINGS_MAX = 55_000\n",
    "EARNINGS_INCREMENT = 1_000\n",
    "earnings_increments = int(EARNINGS_MAX / EARNINGS_INCREMENT) + 1\n",
    "\n",
    "def make_household(married: bool, children: int):\n",
    "    people = {\n",
    "        \"head\": {\n",
    "            \"age\": {2023: 30},\n",
    "        },\n",
    "    }\n",
    "\n",
    "    households = {\n",
    "        \"household\": {\n",
    "            \"members\": [\"head\"],\n",
    "            \"state_code\": {2023: \"DC\"},\n",
    "        },\n",
    "    }\n",
    "\n",
    "    tax_units = {\n",
    "        \"tax_unit\": {\"members\": [\"head\"], \"premium_tax_credit\": {2023: 0}}\n",
    "    }\n",
    "\n",
    "    spm_units = {\"spm_unit\": {\"members\": [\"head\"]}}\n",
    "\n",
    "    if married:\n",
    "        people[\"spouse\"] = {\"age\": {2023: 30}}\n",
    "        households[\"household\"][\"members\"].append(\"spouse\")\n",
    "        tax_units[\"tax_unit\"][\"members\"].append(\"spouse\")\n",
    "        spm_units[\"spm_unit\"][\"members\"].append(\"spouse\")\n",
    "\n",
    "    for i in range(children):\n",
    "        child_key = f\"child_{i+1}\"\n",
    "        people[child_key] = {\"age\": {2023: 10}}\n",
    "        households[\"household\"][\"members\"].append(child_key)\n",
    "        tax_units[\"tax_unit\"][\"members\"].append(child_key)\n",
    "        spm_units[\"spm_unit\"][\"members\"].append(child_key)\n",
    "\n",
    "    return {\n",
    "        \"people\": people,\n",
    "        \"households\": households,\n",
    "        \"tax_units\": tax_units,\n",
    "        \"spm_units\": spm_units,\n",
    "        \"axes\": [\n",
    "            [\n",
    "                dict(\n",
    "                    name=\"employment_income\",\n",
    "                    count=earnings_increments,\n",
    "                    min=0,\n",
    "                    max=EARNINGS_MAX,\n",
    "                )\n",
    "            ]\n",
    "        ],\n",
    "    }\n",
    "\n",
    "\n",
    "def create_df(married: bool, children: int):\n",
    "    hh = make_household(married, children)\n",
    "\n",
    "    # Baseline\n",
    "    baseline = Simulation(situation=hh)\n",
    "    reformed = Simulation(situation=hh, reform=reform)\n",
    "    return pd.DataFrame(\n",
    "        dict(\n",
    "            is_married=\"Married\" if married else \"Single\",\n",
    "            children=children,\n",
    "            employment_income=baseline.calculate(\n",
    "                \"employment_income\", 2023, map_to=\"household\"\n",
    "            ),\n",
    "            net_income_baseline=baseline.calculate(\n",
    "                \"household_net_income\", 2023\n",
    "            ),\n",
    "            net_income_reform=reformed.calculate(\"household_net_income\", 2023),\n",
    "        )\n",
    "    )\n",
    "\n",
    "\n",
    "l = []\n",
    "for married in [False, True]:\n",
    "    for children in range(1, 4):\n",
    "        l.append(create_df(married, children))\n",
    "df = pd.concat(l)\n"
   ]
  },
  {
   "cell_type": "code",
   "execution_count": 11,
   "metadata": {},
   "outputs": [
    {
     "data": {
      "application/vnd.plotly.v1+json": {
       "config": {
        "plotlyServerURL": "https://plot.ly"
       },
       "data": [
        {
         "hovertemplate": "Children=1<br>is_married=Single<br>Adjusted gross income=%{x}<br>Financial Support for Families with Children=%{y}<extra></extra>",
         "legendgroup": "1",
         "line": {
          "color": "lightblue",
          "dash": "solid"
         },
         "marker": {
          "symbol": "circle"
         },
         "mode": "lines",
         "name": "1",
         "orientation": "v",
         "showlegend": true,
         "type": "scatter",
         "x": [
          0,
          1000,
          2000,
          3000,
          4000,
          5000,
          6000,
          7000,
          8000,
          9000,
          10000,
          11000,
          12000,
          13000,
          14000,
          15000,
          16000,
          17000,
          18000,
          19000,
          20000,
          21000,
          22000,
          23000,
          24000,
          25000,
          26000,
          27000,
          28000,
          29000,
          30000,
          31000,
          32000,
          33000,
          34000,
          35000,
          36000,
          37000,
          38000,
          39000,
          40000,
          41000,
          42000,
          43000,
          44000,
          45000,
          46000,
          47000,
          48000,
          49000,
          50000,
          51000,
          52000,
          53000,
          54000,
          55000
         ],
         "xaxis": "x",
         "y": [
          999.99951171875,
          1000,
          1000,
          999.9990234375,
          1000,
          1000,
          1000,
          1000,
          1000,
          1000,
          1000,
          900,
          800,
          700,
          600,
          500,
          400,
          300,
          200,
          100,
          0,
          0,
          0,
          0,
          0,
          0,
          0,
          0,
          0,
          0,
          0,
          0,
          0,
          0,
          0,
          0,
          0,
          0,
          0,
          0,
          0,
          0,
          0,
          0,
          0,
          0,
          0,
          0,
          0,
          0,
          0,
          0,
          0,
          0,
          0,
          0
         ],
         "yaxis": "y"
        },
        {
         "hovertemplate": "Children=1<br>is_married=Married<br>Adjusted gross income=%{x}<br>Financial Support for Families with Children=%{y}<extra></extra>",
         "legendgroup": "1",
         "line": {
          "color": "lightblue",
          "dash": "solid"
         },
         "marker": {
          "symbol": "circle"
         },
         "mode": "lines",
         "name": "1",
         "orientation": "v",
         "showlegend": false,
         "type": "scatter",
         "x": [
          0,
          1000,
          2000,
          3000,
          4000,
          5000,
          6000,
          7000,
          8000,
          9000,
          10000,
          11000,
          12000,
          13000,
          14000,
          15000,
          16000,
          17000,
          18000,
          19000,
          20000,
          21000,
          22000,
          23000,
          24000,
          25000,
          26000,
          27000,
          28000,
          29000,
          30000,
          31000,
          32000,
          33000,
          34000,
          35000,
          36000,
          37000,
          38000,
          39000,
          40000,
          41000,
          42000,
          43000,
          44000,
          45000,
          46000,
          47000,
          48000,
          49000,
          50000,
          51000,
          52000,
          53000,
          54000,
          55000
         ],
         "xaxis": "x2",
         "y": [
          1000,
          1000,
          1000,
          1000,
          1000,
          1000,
          1000,
          1000,
          1000,
          1000,
          1000,
          1000,
          1000,
          1000,
          1000,
          1000,
          1000,
          1000,
          1000,
          1000,
          1000.001953125,
          900,
          800,
          700,
          600,
          500,
          400,
          300,
          200,
          100,
          0,
          0,
          0,
          0,
          0,
          0,
          0,
          0,
          0,
          0,
          0,
          0,
          0,
          0,
          0,
          0,
          0,
          0,
          0,
          0,
          0,
          0,
          0,
          0,
          0,
          0
         ],
         "yaxis": "y2"
        },
        {
         "hovertemplate": "Children=2<br>is_married=Single<br>Adjusted gross income=%{x}<br>Financial Support for Families with Children=%{y}<extra></extra>",
         "legendgroup": "2",
         "line": {
          "color": "#5091cc",
          "dash": "solid"
         },
         "marker": {
          "symbol": "circle"
         },
         "mode": "lines",
         "name": "2",
         "orientation": "v",
         "showlegend": true,
         "type": "scatter",
         "x": [
          0,
          1000,
          2000,
          3000,
          4000,
          5000,
          6000,
          7000,
          8000,
          9000,
          10000,
          11000,
          12000,
          13000,
          14000,
          15000,
          16000,
          17000,
          18000,
          19000,
          20000,
          21000,
          22000,
          23000,
          24000,
          25000,
          26000,
          27000,
          28000,
          29000,
          30000,
          31000,
          32000,
          33000,
          34000,
          35000,
          36000,
          37000,
          38000,
          39000,
          40000,
          41000,
          42000,
          43000,
          44000,
          45000,
          46000,
          47000,
          48000,
          49000,
          50000,
          51000,
          52000,
          53000,
          54000,
          55000
         ],
         "xaxis": "x",
         "y": [
          2000,
          2000,
          2000,
          2000,
          2000,
          2000,
          2000,
          2000,
          2000,
          2000,
          2000,
          1900,
          1800,
          1700,
          1600,
          1500,
          1400,
          1300,
          1200,
          1100,
          1000,
          900,
          800,
          700,
          600,
          500,
          400,
          300,
          200,
          100,
          0,
          0,
          0,
          0,
          0,
          0,
          0,
          0,
          0,
          0,
          0,
          0,
          0,
          0,
          0,
          0,
          0,
          0,
          0,
          0,
          0,
          0,
          0,
          0,
          0,
          0
         ],
         "yaxis": "y"
        },
        {
         "hovertemplate": "Children=2<br>is_married=Married<br>Adjusted gross income=%{x}<br>Financial Support for Families with Children=%{y}<extra></extra>",
         "legendgroup": "2",
         "line": {
          "color": "#5091cc",
          "dash": "solid"
         },
         "marker": {
          "symbol": "circle"
         },
         "mode": "lines",
         "name": "2",
         "orientation": "v",
         "showlegend": false,
         "type": "scatter",
         "x": [
          0,
          1000,
          2000,
          3000,
          4000,
          5000,
          6000,
          7000,
          8000,
          9000,
          10000,
          11000,
          12000,
          13000,
          14000,
          15000,
          16000,
          17000,
          18000,
          19000,
          20000,
          21000,
          22000,
          23000,
          24000,
          25000,
          26000,
          27000,
          28000,
          29000,
          30000,
          31000,
          32000,
          33000,
          34000,
          35000,
          36000,
          37000,
          38000,
          39000,
          40000,
          41000,
          42000,
          43000,
          44000,
          45000,
          46000,
          47000,
          48000,
          49000,
          50000,
          51000,
          52000,
          53000,
          54000,
          55000
         ],
         "xaxis": "x2",
         "y": [
          2000,
          1999.9990234375,
          1999.9990234375,
          2000,
          2000,
          2000,
          2000,
          2000,
          2000,
          2000,
          2000,
          2000,
          2000,
          2000,
          2000,
          2000,
          2000,
          2000,
          2000,
          2000,
          2000,
          1900,
          1800,
          1700,
          1600,
          1500,
          1400,
          1300,
          1200,
          1100,
          1000,
          900,
          800,
          700,
          600,
          500,
          400,
          300,
          200,
          100,
          0,
          0,
          0,
          0,
          0,
          0,
          0,
          0,
          0,
          0,
          0,
          0,
          0,
          0,
          0,
          0
         ],
         "yaxis": "y2"
        },
        {
         "hovertemplate": "Children=3<br>is_married=Single<br>Adjusted gross income=%{x}<br>Financial Support for Families with Children=%{y}<extra></extra>",
         "legendgroup": "3",
         "line": {
          "color": "darkblue",
          "dash": "solid"
         },
         "marker": {
          "symbol": "circle"
         },
         "mode": "lines",
         "name": "3",
         "orientation": "v",
         "showlegend": true,
         "type": "scatter",
         "x": [
          0,
          1000,
          2000,
          3000,
          4000,
          5000,
          6000,
          7000,
          8000,
          9000,
          10000,
          11000,
          12000,
          13000,
          14000,
          15000,
          16000,
          17000,
          18000,
          19000,
          20000,
          21000,
          22000,
          23000,
          24000,
          25000,
          26000,
          27000,
          28000,
          29000,
          30000,
          31000,
          32000,
          33000,
          34000,
          35000,
          36000,
          37000,
          38000,
          39000,
          40000,
          41000,
          42000,
          43000,
          44000,
          45000,
          46000,
          47000,
          48000,
          49000,
          50000,
          51000,
          52000,
          53000,
          54000,
          55000
         ],
         "xaxis": "x",
         "y": [
          3000.0009765625,
          3000.0009765625,
          3000,
          3000,
          3000,
          3000,
          3000,
          3000,
          3000,
          3000,
          3000,
          2900,
          2800,
          2700,
          2600,
          2500,
          2400,
          2300,
          2200,
          2100,
          2000,
          1900,
          1800,
          1700,
          1600,
          1500,
          1400,
          1300,
          1200,
          1100,
          1000,
          900,
          800,
          700,
          600,
          500,
          400,
          300,
          200,
          100,
          0,
          0,
          0,
          0,
          0,
          0,
          0,
          0,
          0,
          0,
          0,
          0,
          0,
          0,
          0,
          0
         ],
         "yaxis": "y"
        },
        {
         "hovertemplate": "Children=3<br>is_married=Married<br>Adjusted gross income=%{x}<br>Financial Support for Families with Children=%{y}<extra></extra>",
         "legendgroup": "3",
         "line": {
          "color": "darkblue",
          "dash": "solid"
         },
         "marker": {
          "symbol": "circle"
         },
         "mode": "lines",
         "name": "3",
         "orientation": "v",
         "showlegend": false,
         "type": "scatter",
         "x": [
          0,
          1000,
          2000,
          3000,
          4000,
          5000,
          6000,
          7000,
          8000,
          9000,
          10000,
          11000,
          12000,
          13000,
          14000,
          15000,
          16000,
          17000,
          18000,
          19000,
          20000,
          21000,
          22000,
          23000,
          24000,
          25000,
          26000,
          27000,
          28000,
          29000,
          30000,
          31000,
          32000,
          33000,
          34000,
          35000,
          36000,
          37000,
          38000,
          39000,
          40000,
          41000,
          42000,
          43000,
          44000,
          45000,
          46000,
          47000,
          48000,
          49000,
          50000,
          51000,
          52000,
          53000,
          54000,
          55000
         ],
         "xaxis": "x2",
         "y": [
          3000,
          3000,
          3000,
          3000,
          3000,
          3000,
          3000,
          3000,
          3000,
          3000,
          3000,
          3000,
          3000,
          3000,
          3000,
          3000,
          3000,
          3000,
          3000,
          3000,
          3000,
          2900,
          2800,
          2700,
          2600,
          2500,
          2400,
          2300,
          2200,
          2100,
          2000,
          1900,
          1800,
          1700,
          1600,
          1500,
          1400,
          1300,
          1200,
          1100,
          1000,
          900,
          800,
          700,
          600,
          500,
          400,
          300,
          200,
          100,
          0,
          0,
          0,
          0,
          0,
          0
         ],
         "yaxis": "y2"
        }
       ],
       "layout": {
        "annotations": [
         {
          "font": {},
          "showarrow": false,
          "text": "Single",
          "x": 0.225,
          "xanchor": "center",
          "xref": "paper",
          "y": 1,
          "yanchor": "bottom",
          "yref": "paper"
         },
         {
          "font": {},
          "showarrow": false,
          "text": "Married",
          "x": 0.775,
          "xanchor": "center",
          "xref": "paper",
          "y": 1,
          "yanchor": "bottom",
          "yref": "paper"
         }
        ],
        "legend": {
         "title": {
          "text": "Children"
         },
         "tracegroupgap": 0
        },
        "plot_bgcolor": "white",
        "template": {
         "data": {
          "bar": [
           {
            "error_x": {
             "color": "#2a3f5f"
            },
            "error_y": {
             "color": "#2a3f5f"
            },
            "marker": {
             "line": {
              "color": "#E5ECF6",
              "width": 0.5
             },
             "pattern": {
              "fillmode": "overlay",
              "size": 10,
              "solidity": 0.2
             }
            },
            "type": "bar"
           }
          ],
          "barpolar": [
           {
            "marker": {
             "line": {
              "color": "#E5ECF6",
              "width": 0.5
             },
             "pattern": {
              "fillmode": "overlay",
              "size": 10,
              "solidity": 0.2
             }
            },
            "type": "barpolar"
           }
          ],
          "carpet": [
           {
            "aaxis": {
             "endlinecolor": "#2a3f5f",
             "gridcolor": "white",
             "linecolor": "white",
             "minorgridcolor": "white",
             "startlinecolor": "#2a3f5f"
            },
            "baxis": {
             "endlinecolor": "#2a3f5f",
             "gridcolor": "white",
             "linecolor": "white",
             "minorgridcolor": "white",
             "startlinecolor": "#2a3f5f"
            },
            "type": "carpet"
           }
          ],
          "choropleth": [
           {
            "colorbar": {
             "outlinewidth": 0,
             "ticks": ""
            },
            "type": "choropleth"
           }
          ],
          "contour": [
           {
            "colorbar": {
             "outlinewidth": 0,
             "ticks": ""
            },
            "colorscale": [
             [
              0,
              "#0d0887"
             ],
             [
              0.1111111111111111,
              "#46039f"
             ],
             [
              0.2222222222222222,
              "#7201a8"
             ],
             [
              0.3333333333333333,
              "#9c179e"
             ],
             [
              0.4444444444444444,
              "#bd3786"
             ],
             [
              0.5555555555555556,
              "#d8576b"
             ],
             [
              0.6666666666666666,
              "#ed7953"
             ],
             [
              0.7777777777777778,
              "#fb9f3a"
             ],
             [
              0.8888888888888888,
              "#fdca26"
             ],
             [
              1,
              "#f0f921"
             ]
            ],
            "type": "contour"
           }
          ],
          "contourcarpet": [
           {
            "colorbar": {
             "outlinewidth": 0,
             "ticks": ""
            },
            "type": "contourcarpet"
           }
          ],
          "heatmap": [
           {
            "colorbar": {
             "outlinewidth": 0,
             "ticks": ""
            },
            "colorscale": [
             [
              0,
              "#0d0887"
             ],
             [
              0.1111111111111111,
              "#46039f"
             ],
             [
              0.2222222222222222,
              "#7201a8"
             ],
             [
              0.3333333333333333,
              "#9c179e"
             ],
             [
              0.4444444444444444,
              "#bd3786"
             ],
             [
              0.5555555555555556,
              "#d8576b"
             ],
             [
              0.6666666666666666,
              "#ed7953"
             ],
             [
              0.7777777777777778,
              "#fb9f3a"
             ],
             [
              0.8888888888888888,
              "#fdca26"
             ],
             [
              1,
              "#f0f921"
             ]
            ],
            "type": "heatmap"
           }
          ],
          "heatmapgl": [
           {
            "colorbar": {
             "outlinewidth": 0,
             "ticks": ""
            },
            "colorscale": [
             [
              0,
              "#0d0887"
             ],
             [
              0.1111111111111111,
              "#46039f"
             ],
             [
              0.2222222222222222,
              "#7201a8"
             ],
             [
              0.3333333333333333,
              "#9c179e"
             ],
             [
              0.4444444444444444,
              "#bd3786"
             ],
             [
              0.5555555555555556,
              "#d8576b"
             ],
             [
              0.6666666666666666,
              "#ed7953"
             ],
             [
              0.7777777777777778,
              "#fb9f3a"
             ],
             [
              0.8888888888888888,
              "#fdca26"
             ],
             [
              1,
              "#f0f921"
             ]
            ],
            "type": "heatmapgl"
           }
          ],
          "histogram": [
           {
            "marker": {
             "pattern": {
              "fillmode": "overlay",
              "size": 10,
              "solidity": 0.2
             }
            },
            "type": "histogram"
           }
          ],
          "histogram2d": [
           {
            "colorbar": {
             "outlinewidth": 0,
             "ticks": ""
            },
            "colorscale": [
             [
              0,
              "#0d0887"
             ],
             [
              0.1111111111111111,
              "#46039f"
             ],
             [
              0.2222222222222222,
              "#7201a8"
             ],
             [
              0.3333333333333333,
              "#9c179e"
             ],
             [
              0.4444444444444444,
              "#bd3786"
             ],
             [
              0.5555555555555556,
              "#d8576b"
             ],
             [
              0.6666666666666666,
              "#ed7953"
             ],
             [
              0.7777777777777778,
              "#fb9f3a"
             ],
             [
              0.8888888888888888,
              "#fdca26"
             ],
             [
              1,
              "#f0f921"
             ]
            ],
            "type": "histogram2d"
           }
          ],
          "histogram2dcontour": [
           {
            "colorbar": {
             "outlinewidth": 0,
             "ticks": ""
            },
            "colorscale": [
             [
              0,
              "#0d0887"
             ],
             [
              0.1111111111111111,
              "#46039f"
             ],
             [
              0.2222222222222222,
              "#7201a8"
             ],
             [
              0.3333333333333333,
              "#9c179e"
             ],
             [
              0.4444444444444444,
              "#bd3786"
             ],
             [
              0.5555555555555556,
              "#d8576b"
             ],
             [
              0.6666666666666666,
              "#ed7953"
             ],
             [
              0.7777777777777778,
              "#fb9f3a"
             ],
             [
              0.8888888888888888,
              "#fdca26"
             ],
             [
              1,
              "#f0f921"
             ]
            ],
            "type": "histogram2dcontour"
           }
          ],
          "mesh3d": [
           {
            "colorbar": {
             "outlinewidth": 0,
             "ticks": ""
            },
            "type": "mesh3d"
           }
          ],
          "parcoords": [
           {
            "line": {
             "colorbar": {
              "outlinewidth": 0,
              "ticks": ""
             }
            },
            "type": "parcoords"
           }
          ],
          "pie": [
           {
            "automargin": true,
            "type": "pie"
           }
          ],
          "scatter": [
           {
            "fillpattern": {
             "fillmode": "overlay",
             "size": 10,
             "solidity": 0.2
            },
            "type": "scatter"
           }
          ],
          "scatter3d": [
           {
            "line": {
             "colorbar": {
              "outlinewidth": 0,
              "ticks": ""
             }
            },
            "marker": {
             "colorbar": {
              "outlinewidth": 0,
              "ticks": ""
             }
            },
            "type": "scatter3d"
           }
          ],
          "scattercarpet": [
           {
            "marker": {
             "colorbar": {
              "outlinewidth": 0,
              "ticks": ""
             }
            },
            "type": "scattercarpet"
           }
          ],
          "scattergeo": [
           {
            "marker": {
             "colorbar": {
              "outlinewidth": 0,
              "ticks": ""
             }
            },
            "type": "scattergeo"
           }
          ],
          "scattergl": [
           {
            "marker": {
             "colorbar": {
              "outlinewidth": 0,
              "ticks": ""
             }
            },
            "type": "scattergl"
           }
          ],
          "scattermapbox": [
           {
            "marker": {
             "colorbar": {
              "outlinewidth": 0,
              "ticks": ""
             }
            },
            "type": "scattermapbox"
           }
          ],
          "scatterpolar": [
           {
            "marker": {
             "colorbar": {
              "outlinewidth": 0,
              "ticks": ""
             }
            },
            "type": "scatterpolar"
           }
          ],
          "scatterpolargl": [
           {
            "marker": {
             "colorbar": {
              "outlinewidth": 0,
              "ticks": ""
             }
            },
            "type": "scatterpolargl"
           }
          ],
          "scatterternary": [
           {
            "marker": {
             "colorbar": {
              "outlinewidth": 0,
              "ticks": ""
             }
            },
            "type": "scatterternary"
           }
          ],
          "surface": [
           {
            "colorbar": {
             "outlinewidth": 0,
             "ticks": ""
            },
            "colorscale": [
             [
              0,
              "#0d0887"
             ],
             [
              0.1111111111111111,
              "#46039f"
             ],
             [
              0.2222222222222222,
              "#7201a8"
             ],
             [
              0.3333333333333333,
              "#9c179e"
             ],
             [
              0.4444444444444444,
              "#bd3786"
             ],
             [
              0.5555555555555556,
              "#d8576b"
             ],
             [
              0.6666666666666666,
              "#ed7953"
             ],
             [
              0.7777777777777778,
              "#fb9f3a"
             ],
             [
              0.8888888888888888,
              "#fdca26"
             ],
             [
              1,
              "#f0f921"
             ]
            ],
            "type": "surface"
           }
          ],
          "table": [
           {
            "cells": {
             "fill": {
              "color": "#EBF0F8"
             },
             "line": {
              "color": "white"
             }
            },
            "header": {
             "fill": {
              "color": "#C8D4E3"
             },
             "line": {
              "color": "white"
             }
            },
            "type": "table"
           }
          ]
         },
         "layout": {
          "annotationdefaults": {
           "arrowcolor": "#2a3f5f",
           "arrowhead": 0,
           "arrowwidth": 1
          },
          "autotypenumbers": "strict",
          "coloraxis": {
           "colorbar": {
            "outlinewidth": 0,
            "ticks": ""
           }
          },
          "colorscale": {
           "diverging": [
            [
             0,
             "#8e0152"
            ],
            [
             0.1,
             "#c51b7d"
            ],
            [
             0.2,
             "#de77ae"
            ],
            [
             0.3,
             "#f1b6da"
            ],
            [
             0.4,
             "#fde0ef"
            ],
            [
             0.5,
             "#f7f7f7"
            ],
            [
             0.6,
             "#e6f5d0"
            ],
            [
             0.7,
             "#b8e186"
            ],
            [
             0.8,
             "#7fbc41"
            ],
            [
             0.9,
             "#4d9221"
            ],
            [
             1,
             "#276419"
            ]
           ],
           "sequential": [
            [
             0,
             "#0d0887"
            ],
            [
             0.1111111111111111,
             "#46039f"
            ],
            [
             0.2222222222222222,
             "#7201a8"
            ],
            [
             0.3333333333333333,
             "#9c179e"
            ],
            [
             0.4444444444444444,
             "#bd3786"
            ],
            [
             0.5555555555555556,
             "#d8576b"
            ],
            [
             0.6666666666666666,
             "#ed7953"
            ],
            [
             0.7777777777777778,
             "#fb9f3a"
            ],
            [
             0.8888888888888888,
             "#fdca26"
            ],
            [
             1,
             "#f0f921"
            ]
           ],
           "sequentialminus": [
            [
             0,
             "#0d0887"
            ],
            [
             0.1111111111111111,
             "#46039f"
            ],
            [
             0.2222222222222222,
             "#7201a8"
            ],
            [
             0.3333333333333333,
             "#9c179e"
            ],
            [
             0.4444444444444444,
             "#bd3786"
            ],
            [
             0.5555555555555556,
             "#d8576b"
            ],
            [
             0.6666666666666666,
             "#ed7953"
            ],
            [
             0.7777777777777778,
             "#fb9f3a"
            ],
            [
             0.8888888888888888,
             "#fdca26"
            ],
            [
             1,
             "#f0f921"
            ]
           ]
          },
          "colorway": [
           "#636efa",
           "#EF553B",
           "#00cc96",
           "#ab63fa",
           "#FFA15A",
           "#19d3f3",
           "#FF6692",
           "#B6E880",
           "#FF97FF",
           "#FECB52"
          ],
          "font": {
           "color": "#2a3f5f"
          },
          "geo": {
           "bgcolor": "white",
           "lakecolor": "white",
           "landcolor": "#E5ECF6",
           "showlakes": true,
           "showland": true,
           "subunitcolor": "white"
          },
          "hoverlabel": {
           "align": "left"
          },
          "hovermode": "closest",
          "mapbox": {
           "style": "light"
          },
          "paper_bgcolor": "white",
          "plot_bgcolor": "#E5ECF6",
          "polar": {
           "angularaxis": {
            "gridcolor": "white",
            "linecolor": "white",
            "ticks": ""
           },
           "bgcolor": "#E5ECF6",
           "radialaxis": {
            "gridcolor": "white",
            "linecolor": "white",
            "ticks": ""
           }
          },
          "scene": {
           "xaxis": {
            "backgroundcolor": "#E5ECF6",
            "gridcolor": "white",
            "gridwidth": 2,
            "linecolor": "white",
            "showbackground": true,
            "ticks": "",
            "zerolinecolor": "white"
           },
           "yaxis": {
            "backgroundcolor": "#E5ECF6",
            "gridcolor": "white",
            "gridwidth": 2,
            "linecolor": "white",
            "showbackground": true,
            "ticks": "",
            "zerolinecolor": "white"
           },
           "zaxis": {
            "backgroundcolor": "#E5ECF6",
            "gridcolor": "white",
            "gridwidth": 2,
            "linecolor": "white",
            "showbackground": true,
            "ticks": "",
            "zerolinecolor": "white"
           }
          },
          "shapedefaults": {
           "line": {
            "color": "#2a3f5f"
           }
          },
          "ternary": {
           "aaxis": {
            "gridcolor": "white",
            "linecolor": "white",
            "ticks": ""
           },
           "baxis": {
            "gridcolor": "white",
            "linecolor": "white",
            "ticks": ""
           },
           "bgcolor": "#E5ECF6",
           "caxis": {
            "gridcolor": "white",
            "linecolor": "white",
            "ticks": ""
           }
          },
          "title": {
           "x": 0.05
          },
          "xaxis": {
           "automargin": true,
           "gridcolor": "white",
           "linecolor": "white",
           "ticks": "",
           "title": {
            "standoff": 15
           },
           "zerolinecolor": "white",
           "zerolinewidth": 2
          },
          "yaxis": {
           "automargin": true,
           "gridcolor": "white",
           "linecolor": "white",
           "ticks": "",
           "title": {
            "standoff": 15
           },
           "zerolinecolor": "white",
           "zerolinewidth": 2
          }
         }
        },
        "title": {
         "text": "FSFC by marital status, number of children, and income"
        },
        "xaxis": {
         "anchor": "y",
         "domain": [
          0,
          0.45
         ],
         "gridcolor": "white",
         "tickformat": "$,",
         "title": {
          "text": "Adjusted gross income"
         }
        },
        "xaxis2": {
         "anchor": "y2",
         "domain": [
          0.55,
          1
         ],
         "matches": "x",
         "tickformat": "$,",
         "title": {
          "text": "Adjusted gross income"
         }
        },
        "yaxis": {
         "anchor": "x",
         "domain": [
          0,
          1
         ],
         "gridcolor": "white",
         "tickformat": "$,",
         "title": {
          "text": "Financial Support for Families with Children"
         }
        },
        "yaxis2": {
         "anchor": "x2",
         "domain": [
          0,
          1
         ],
         "matches": "y",
         "showticklabels": false
        }
       }
      }
     },
     "metadata": {},
     "output_type": "display_data"
    }
   ],
   "source": [
    "df[\"net_income_diff\"] = df[\"net_income_reform\"] - df[\"net_income_baseline\"]\n",
    "\n",
    "LIGHT_GRAY = \"#F5F5F5\"\n",
    "GRAY = \"#BDBDBD\"\n",
    "BLUE = \"#5091cc\"\n",
    "LIGHT_BLUE = \"lightblue\"\n",
    "DARK_BLUE = \"darkblue\"\n",
    "\n",
    "COLOR_MAP = {0: GRAY, 1: LIGHT_BLUE, 2: BLUE, 3: DARK_BLUE}\n",
    "\n",
    "LABELS = dict(\n",
    "    employment_income=\"Adjusted gross income\",\n",
    "    married=\"Married\",\n",
    "    children=\"Children\",\n",
    "    net_income_diff=\"Financial Support for Families with Children\",\n",
    ")\n",
    "\n",
    "import plotly.express as px\n",
    "\n",
    "fig = px.line(\n",
    "    df,\n",
    "    \"employment_income\",\n",
    "    \"net_income_diff\",\n",
    "    color=\"children\",\n",
    "    facet_col=\"is_married\",\n",
    "    labels=LABELS,\n",
    "    title=\"FSFC by marital status, number of children, and income\",\n",
    "    color_discrete_map=COLOR_MAP,\n",
    "    facet_col_spacing=0.1,\n",
    ")\n",
    "\n",
    "fig.update_layout(\n",
    "    xaxis_tickformat=\"$,\",\n",
    "    yaxis_tickformat=\"$,\",\n",
    "    plot_bgcolor=\"white\",\n",
    "    xaxis_gridcolor=\"white\",\n",
    "    yaxis_gridcolor=\"white\",\n",
    ")\n",
    "fig.update_xaxes(tickformat=\"$,\")\n",
    "\n",
    "fig.for_each_annotation(lambda a: a.update(text=a.text.replace(\"is_married=\", \"\")))\n",
    "fig.show()\n"
   ]
  },
  {
   "cell_type": "code",
   "execution_count": 41,
   "metadata": {},
   "outputs": [
    {
     "data": {
      "text/plain": [
       "1135"
      ]
     },
     "execution_count": 41,
     "metadata": {},
     "output_type": "execute_result"
    }
   ],
   "source": [
    "from policyengine_us import Microsimulation\n",
    "\n",
    "sim = Microsimulation()\n",
    "state = sim.calc(\"state_code\", map_to=\"household\")\n",
    "# Count number in DC.\n",
    "(state == \"DC\").values.sum()\n",
    "ids = sim.calc(\"household_id\", map_to=\"household\")\n",
    "ids.groupby(state).value_counts().loc[\"DC\"].sum()"
   ]
  },
  {
   "cell_type": "code",
   "execution_count": 40,
   "metadata": {},
   "outputs": [
    {
     "data": {
      "text/plain": [
       "59148"
      ]
     },
     "execution_count": 40,
     "metadata": {},
     "output_type": "execute_result"
    }
   ],
   "source": [
    "ids.groupby(state).value_counts().sum()"
   ]
  }
 ],
 "metadata": {
  "interpreter": {
   "hash": "acd536c30d59fb9239b78f26155dcd58ce48444653c59c0cbc6c2d93043c3f07"
  },
  "kernelspec": {
   "display_name": "Python 3",
   "language": "python",
   "name": "python3"
  },
  "language_info": {
   "codemirror_mode": {
    "name": "ipython",
    "version": 3
   },
   "file_extension": ".py",
   "mimetype": "text/x-python",
   "name": "python",
   "nbconvert_exporter": "python",
   "pygments_lexer": "ipython3",
   "version": "3.9.16"
  }
 },
 "nbformat": 4,
 "nbformat_minor": 4
}
